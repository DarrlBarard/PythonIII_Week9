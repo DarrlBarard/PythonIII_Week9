{
 "cells": [
  {
   "cell_type": "code",
   "execution_count": 1,
   "metadata": {},
   "outputs": [],
   "source": [
    "# Import needed modules\n",
    "import random\n",
    "import copy"
   ]
  },
  {
   "cell_type": "code",
   "execution_count": 2,
   "metadata": {},
   "outputs": [],
   "source": [
    "# The four nucleotides\n",
    "nucs = [\"A\",\"C\",\"G\",\"T\"]"
   ]
  },
  {
   "cell_type": "code",
   "execution_count": 3,
   "metadata": {},
   "outputs": [],
   "source": [
    "# Length of sequence\n",
    "seqLen = 24\n",
    "# Use a for loop and random.choice() to create a random DNA sequence (startSeq) with length seqLen\n",
    "# startSeq should be a list\n",
    "# Code here...\n",
    "startSeq = []\n",
    "for _ in range(seqLen):\n",
    "    startSeq.append( random.choice(nucs) )"
   ]
  },
  {
   "cell_type": "code",
   "execution_count": 4,
   "metadata": {},
   "outputs": [],
   "source": [
    "# Set the number of time steps to simulate\n",
    "steps = 20"
   ]
  },
  {
   "cell_type": "code",
   "execution_count": 5,
   "metadata": {},
   "outputs": [
    {
     "name": "stdout",
     "output_type": "stream",
     "text": [
      "[['C', 'A', 'G', 'C', 'G', 'A', 'T', 'C', 'T', 'C', 'G', 'T', 'G', 'A', 'T', 'T', 'A', 'T', 'G', 'A', 'G', 'T', 'G', 'A']]\n"
     ]
    }
   ],
   "source": [
    "# Create a list to hold the set of sequences from each time step in the simulation\n",
    "seqs = []\n",
    "seqs.append(copy.copy(startSeq))\n",
    "print(seqs)"
   ]
  },
  {
   "cell_type": "code",
   "execution_count": 6,
   "metadata": {},
   "outputs": [],
   "source": [
    "# Use a for loop to simulate changes to the sequence across time steps\n",
    "#for _ in startSeq\n",
    "\n",
    "# Create a copy of the last sequence in seqs using copy.copy()\n",
    "# Code here...\n",
    "newSeq = copy.copy(startSeq)\n",
    "\n",
    "    # Randomly pick an index in your sequence to change\n",
    "    # Code here...      \n",
    "    # Draw a new nucleotide and make sure that it's different than what you started with\n",
    "    # Hint: a while loop would be very useful here\n",
    "    # Code here...\n",
    "    # Update the randomly chosen position in the new sequence with the new nucleotide\n",
    "    # Code here...\n",
    "    # Add the updated sequence to the seqs list\n",
    "    # Code here...\n",
    "for _ in range(steps):\n",
    "    newSeq[random.randrange(seqLen)] = random.choice(nucs)\n",
    "    seqs.append(copy.copy(newSeq))"
   ]
  },
  {
   "cell_type": "code",
   "execution_count": 7,
   "metadata": {
    "scrolled": true
   },
   "outputs": [
    {
     "name": "stdout",
     "output_type": "stream",
     "text": [
      "['C', 'A', 'G', 'C', 'G', 'A', 'T', 'C', 'T', 'C', 'G', 'T', 'G', 'A', 'T', 'T', 'A', 'T', 'G', 'A', 'G', 'T', 'G', 'A']\n",
      "['C', 'A', 'G', 'C', 'G', 'A', 'T', 'C', 'T', 'C', 'G', 'T', 'G', 'A', 'T', 'T', 'A', 'T', 'G', 'G', 'G', 'T', 'G', 'A']\n",
      "['C', 'A', 'G', 'C', 'G', 'A', 'T', 'C', 'T', 'C', 'G', 'T', 'G', 'A', 'T', 'T', 'A', 'T', 'G', 'G', 'G', 'T', 'G', 'A']\n",
      "['C', 'A', 'G', 'C', 'G', 'A', 'T', 'C', 'T', 'C', 'G', 'T', 'G', 'A', 'T', 'T', 'A', 'T', 'G', 'G', 'G', 'T', 'G', 'A']\n",
      "['C', 'A', 'G', 'C', 'G', 'A', 'T', 'C', 'T', 'C', 'G', 'T', 'G', 'A', 'T', 'T', 'A', 'T', 'G', 'G', 'G', 'T', 'G', 'A']\n",
      "['C', 'A', 'G', 'C', 'G', 'A', 'T', 'C', 'T', 'A', 'G', 'T', 'G', 'A', 'T', 'T', 'A', 'T', 'G', 'G', 'G', 'T', 'G', 'A']\n",
      "['C', 'A', 'G', 'C', 'G', 'A', 'T', 'C', 'T', 'A', 'G', 'T', 'G', 'A', 'T', 'C', 'A', 'T', 'G', 'G', 'G', 'T', 'G', 'A']\n",
      "['C', 'A', 'G', 'C', 'G', 'A', 'T', 'C', 'T', 'A', 'G', 'T', 'G', 'A', 'T', 'C', 'A', 'T', 'G', 'G', 'G', 'T', 'G', 'A']\n",
      "['C', 'A', 'G', 'C', 'G', 'A', 'T', 'C', 'T', 'G', 'G', 'T', 'G', 'A', 'T', 'C', 'A', 'T', 'G', 'G', 'G', 'T', 'G', 'A']\n",
      "['C', 'A', 'G', 'C', 'C', 'A', 'T', 'C', 'T', 'G', 'G', 'T', 'G', 'A', 'T', 'C', 'A', 'T', 'G', 'G', 'G', 'T', 'G', 'A']\n",
      "['C', 'A', 'G', 'C', 'C', 'A', 'T', 'C', 'T', 'G', 'G', 'T', 'G', 'A', 'T', 'C', 'A', 'T', 'G', 'T', 'G', 'T', 'G', 'A']\n",
      "['C', 'A', 'G', 'C', 'C', 'A', 'T', 'C', 'T', 'G', 'G', 'T', 'G', 'A', 'T', 'C', 'A', 'T', 'G', 'T', 'G', 'T', 'G', 'A']\n",
      "['C', 'A', 'G', 'C', 'C', 'A', 'T', 'C', 'T', 'G', 'G', 'T', 'G', 'A', 'G', 'C', 'A', 'T', 'G', 'T', 'G', 'T', 'G', 'A']\n",
      "['C', 'A', 'G', 'C', 'C', 'A', 'T', 'C', 'T', 'G', 'G', 'T', 'G', 'A', 'G', 'C', 'C', 'T', 'G', 'T', 'G', 'T', 'G', 'A']\n",
      "['C', 'A', 'G', 'C', 'C', 'A', 'T', 'C', 'T', 'G', 'G', 'T', 'G', 'A', 'G', 'C', 'C', 'T', 'G', 'T', 'G', 'T', 'G', 'A']\n",
      "['C', 'A', 'G', 'C', 'C', 'A', 'T', 'C', 'T', 'G', 'C', 'T', 'G', 'A', 'G', 'C', 'C', 'T', 'G', 'T', 'G', 'T', 'G', 'A']\n",
      "['C', 'A', 'G', 'C', 'C', 'A', 'T', 'C', 'T', 'G', 'C', 'T', 'G', 'A', 'G', 'C', 'C', 'T', 'G', 'T', 'G', 'T', 'A', 'A']\n",
      "['C', 'A', 'G', 'C', 'C', 'A', 'T', 'C', 'T', 'C', 'C', 'T', 'G', 'A', 'G', 'C', 'C', 'T', 'G', 'T', 'G', 'T', 'A', 'A']\n",
      "['C', 'A', 'G', 'C', 'T', 'A', 'T', 'C', 'T', 'C', 'C', 'T', 'G', 'A', 'G', 'C', 'C', 'T', 'G', 'T', 'G', 'T', 'A', 'A']\n",
      "['C', 'A', 'G', 'C', 'T', 'A', 'T', 'C', 'T', 'C', 'C', 'T', 'G', 'A', 'G', 'C', 'C', 'T', 'G', 'T', 'A', 'T', 'A', 'A']\n"
     ]
    }
   ],
   "source": [
    "# Print all sequences -- if needed, you can uncomment the code below\n",
    "for i in range(steps):\n",
    "    print(seqs[i])"
   ]
  },
  {
   "cell_type": "code",
   "execution_count": 8,
   "metadata": {},
   "outputs": [
    {
     "name": "stdout",
     "output_type": "stream",
     "text": [
      "CAGCGATCTCGTGATTATGAGTGA\n",
      "CAGCTATCTCCTGTGCCTGTATAA\n",
      "Hamming distance between first and last sequences is: 9\n"
     ]
    }
   ],
   "source": [
    "# Print the starting sequence as a string\n",
    "startSeqStr = \"\"\n",
    "for n in startSeq:\n",
    "    startSeqStr += n\n",
    "print(startSeqStr)\n",
    "\n",
    "# Print the ending sequence as a string\n",
    "lastSeqStr = \"\"\n",
    "for n in seqs[len(seqs)-1]:\n",
    "    lastSeqStr += n\n",
    "print(lastSeqStr)\n",
    "\n",
    "# Print the Hamming distance between the starting and ending sequences\n",
    "dist = 0\n",
    "for i in range( len(startSeq) ):\n",
    "    endSeq = seqs[len(seqs)-1]\n",
    "    if startSeq[i] != endSeq[i]:\n",
    "        dist += 1\n",
    "\n",
    "print( \"Hamming distance between first and last sequences is: \" + str(dist) )"
   ]
  },
  {
   "cell_type": "code",
   "execution_count": 9,
   "metadata": {},
   "outputs": [
    {
     "name": "stdout",
     "output_type": "stream",
     "text": [
      "QSALYISL\n"
     ]
    }
   ],
   "source": [
    "\n",
    "# Here is a dictionary that translates between codons in a DNA sequence and amino acids\n",
    "gencode = {\n",
    "    'ATA':'I', 'ATC':'I', 'ATT':'I', 'ATG':'M',\n",
    "    'ACA':'T', 'ACC':'T', 'ACG':'T', 'ACT':'T',\n",
    "    'AAC':'N', 'AAT':'N', 'AAA':'K', 'AAG':'K',\n",
    "    'AGC':'S', 'AGT':'S', 'AGA':'R', 'AGG':'R',\n",
    "    'CTA':'L', 'CTC':'L', 'CTG':'L', 'CTT':'L',\n",
    "    'CCA':'P', 'CCC':'P', 'CCG':'P', 'CCT':'P',\n",
    "    'CAC':'H', 'CAT':'H', 'CAA':'Q', 'CAG':'Q',\n",
    "    'CGA':'R', 'CGC':'R', 'CGG':'R', 'CGT':'R',\n",
    "    'GTA':'V', 'GTC':'V', 'GTG':'V', 'GTT':'V',\n",
    "    'GCA':'A', 'GCC':'A', 'GCG':'A', 'GCT':'A',\n",
    "    'GAC':'D', 'GAT':'D', 'GAA':'E', 'GAG':'E',\n",
    "    'GGA':'G', 'GGC':'G', 'GGG':'G', 'GGT':'G',\n",
    "    'TCA':'S', 'TCC':'S', 'TCG':'S', 'TCT':'S',\n",
    "    'TTC':'F', 'TTT':'F', 'TTA':'L', 'TTG':'L',\n",
    "    'TAC':'Y', 'TAT':'Y', 'TAA':'_', 'TAG':'_',\n",
    "    'TGC':'C', 'TGT':'C', 'TGA':'_', 'TGG':'W'}\n",
    "\n",
    "# Translate your ending DNA sequence into an amino acid sequence\n",
    "# Make sure your sequence length is a multiple of 3!\n",
    "\n",
    "# Code here...\n",
    "\n",
    "strAA=\"\"\n",
    "\n",
    "for i in range(seqLen//3):\n",
    "    strNewSeq=\"\"\n",
    "    for j in newSeq[i:i+3]:\n",
    "        strNewSeq+=j\n",
    "    strAA+=gencode.get(strNewSeq)\n",
    "    \n",
    "print(strAA)"
   ]
  },
  {
   "cell_type": "code",
   "execution_count": 10,
   "metadata": {},
   "outputs": [],
   "source": [
    "#The Hamming distance between two sequences is simply the number of nucleotide positions at which they differ. \n",
    "#What is the Hamming distance between your starting and ending sequences? \n",
    "#How does this value compare if you re-run the simulation several times, \n",
    "#first with a small number of steps and next with a much larger number of steps?\n",
    "\n",
    "# Answer: The first distance is 10. The results of rest runs are 8,7,8,9,13,9. All results come out randomly.\n"
   ]
  }
 ],
 "metadata": {
  "kernelspec": {
   "display_name": "Python 3",
   "language": "python",
   "name": "python3"
  },
  "language_info": {
   "codemirror_mode": {
    "name": "ipython",
    "version": 3
   },
   "file_extension": ".py",
   "mimetype": "text/x-python",
   "name": "python",
   "nbconvert_exporter": "python",
   "pygments_lexer": "ipython3",
   "version": "3.6.4"
  }
 },
 "nbformat": 4,
 "nbformat_minor": 2
}
